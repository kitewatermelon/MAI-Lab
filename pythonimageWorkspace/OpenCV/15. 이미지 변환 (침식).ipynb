{
 "cells": [
  {
   "cell_type": "markdown",
   "id": "0bda5367",
   "metadata": {},
   "source": [
    "# 15. 이미지 변환 (침식)"
   ]
  },
  {
   "cell_type": "markdown",
   "id": "6c9c9e19",
   "metadata": {},
   "source": [
    "## 이미지를 깎아서 노이즈 제거 \n",
    "흰색 영역의 외곽 픽셀을 검은색으로 변경"
   ]
  },
  {
   "cell_type": "code",
   "execution_count": 3,
   "id": "7b7e8ad9",
   "metadata": {},
   "outputs": [],
   "source": [
    "import cv2\n",
    "import numpy as np\n",
    "\n",
    "kernel = np.ones((3,3), dtype=np.uint8)\n",
    "#kernel\n",
    "\n",
    "img = cv2.imread('erode.png' , cv2.IMREAD_GRAYSCALE)\n",
    "erode1 = cv2.erode(img, kernel, iterations=1) # 반복횟수\n",
    "erode2 = cv2.erode(img, kernel, iterations=2) # 반복횟수\n",
    "erode3 = cv2.erode(img, kernel, iterations=3) # 반복횟수\n",
    "\n",
    "cv2.imshow('gray' , img)\n",
    "cv2.imshow('erode1' , erode1)\n",
    "cv2.imshow('erode2' , erode2)\n",
    "cv2.imshow('erode3' , erode3)\n",
    "cv2.waitKey(0)\n",
    "cv2.destroyAllWindows()"
   ]
  }
 ],
 "metadata": {
  "kernelspec": {
   "display_name": "Python 3 (ipykernel)",
   "language": "python",
   "name": "python3"
  },
  "language_info": {
   "codemirror_mode": {
    "name": "ipython",
    "version": 3
   },
   "file_extension": ".py",
   "mimetype": "text/x-python",
   "name": "python",
   "nbconvert_exporter": "python",
   "pygments_lexer": "ipython3",
   "version": "3.11.3"
  }
 },
 "nbformat": 4,
 "nbformat_minor": 5
}
