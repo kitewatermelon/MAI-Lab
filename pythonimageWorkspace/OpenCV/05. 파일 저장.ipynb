{
 "cells": [
  {
   "cell_type": "markdown",
   "id": "654dc70e",
   "metadata": {},
   "source": [
    "# 05. 파일 저장\n",
    "\n",
    "## 이미지 저장"
   ]
  },
  {
   "cell_type": "code",
   "execution_count": 4,
   "id": "e6c4144f",
   "metadata": {},
   "outputs": [
    {
     "name": "stdout",
     "output_type": "stream",
     "text": [
      "True\n"
     ]
    }
   ],
   "source": [
    "import cv2 as ``\n",
    "\n",
    "img= cv.imread('img.jpg' ,cv2.IMREAD_GRAYSCALE)\n",
    "cv.imshow('img' , img)\n",
    "cv.waitKey(0)\n",
    "cv.destroyAllWindows()\n",
    "\n",
    "result = cv.imwrite('img_save.jpg' , img)\n",
    "print(result)"
   ]
  },
  {
   "cell_type": "markdown",
   "id": "dcd162bc",
   "metadata": {},
   "source": [
    "## 저장 포맷 (jpg,png)"
   ]
  },
  {
   "cell_type": "code",
   "execution_count": 2,
   "id": "76635342",
   "metadata": {},
   "outputs": [],
   "source": [
    "import cv2 as cv\n",
    "img= cv.imread('img.jpg' ,cv.IMREAD_GRAYSCALE)\n",
    "result = cv.imwrite('img_save.png' , img)"
   ]
  }
 ],
 "metadata": {
  "kernelspec": {
   "display_name": "Python 3 (ipykernel)",
   "language": "python",
   "name": "python3"
  },
  "language_info": {
   "codemirror_mode": {
    "name": "ipython",
    "version": 3
   },
   "file_extension": ".py",
   "mimetype": "text/x-python",
   "name": "python",
   "nbconvert_exporter": "python",
   "pygments_lexer": "ipython3",
   "version": "3.11.3"
  }
 },
 "nbformat": 4,
 "nbformat_minor": 5
}
