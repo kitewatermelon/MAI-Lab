{
 "cells": [
  {
   "cell_type": "markdown",
   "id": "c03ee087",
   "metadata": {},
   "source": [
    "# 13. 이미지 변형(이진화)"
   ]
  },
  {
   "cell_type": "code",
   "execution_count": 13,
   "id": "4ed2a13c",
   "metadata": {},
   "outputs": [],
   "source": [
    "import cv2\n",
    "img = cv2.imread('book.jpg' , cv2.IMREAD_GRAYSCALE)\n",
    "\n",
    "ret , binary = cv2.threshold(img, 190, 255 , cv2.THRESH_BINARY)\n",
    "\n",
    "\n",
    "cv2.imshow('img' , img)\n",
    "cv2.imshow('img' , binary)\n",
    "cv2.waitKey(0)\n",
    "cv2.destroyAllWindows()"
   ]
  },
  {
   "cell_type": "markdown",
   "id": "71c7d6cb",
   "metadata": {},
   "source": [
    "## Trackbar(값 변화에 따른 변형 확인"
   ]
  },
  {
   "cell_type": "code",
   "execution_count": 17,
   "id": "9e4dec3a",
   "metadata": {},
   "outputs": [
    {
     "ename": "error",
     "evalue": "OpenCV(4.8.0) D:\\a\\opencv-python\\opencv-python\\opencv\\modules\\highgui\\src\\window_w32.cpp:2561: error: (-27:Null pointer) NULL window: 'Trackbar' in function 'cvGetTrackbarPos'\n",
     "output_type": "error",
     "traceback": [
      "\u001b[1;31m---------------------------------------------------------------------------\u001b[0m",
      "\u001b[1;31merror\u001b[0m                                     Traceback (most recent call last)",
      "Cell \u001b[1;32mIn[17], line 14\u001b[0m\n\u001b[0;32m     11\u001b[0m cv2\u001b[38;5;241m.\u001b[39mcreateTrackbar(\u001b[38;5;124m'\u001b[39m\u001b[38;5;124mthreshold\u001b[39m\u001b[38;5;124m'\u001b[39m , name , \u001b[38;5;241m127\u001b[39m , \u001b[38;5;241m255\u001b[39m , empty) \u001b[38;5;66;03m#bar의 이름 , 창의 이름 , 초기값, 최대값, 이벤드 처리\u001b[39;00m\n\u001b[0;32m     13\u001b[0m \u001b[38;5;28;01mwhile\u001b[39;00m \u001b[38;5;28;01mTrue\u001b[39;00m:\n\u001b[1;32m---> 14\u001b[0m     thresh \u001b[38;5;241m=\u001b[39m cv2\u001b[38;5;241m.\u001b[39mgetTrackbarPos(\u001b[38;5;124m'\u001b[39m\u001b[38;5;124mthreshold\u001b[39m\u001b[38;5;124m'\u001b[39m , name )\n\u001b[0;32m     15\u001b[0m     ret, binary \u001b[38;5;241m=\u001b[39m cv2\u001b[38;5;241m.\u001b[39mthreshold(img, thresh, \u001b[38;5;241m255\u001b[39m , cv2\u001b[38;5;241m.\u001b[39mTHRESH_BINARY)\n\u001b[0;32m     17\u001b[0m     \u001b[38;5;28;01mif\u001b[39;00m \u001b[38;5;129;01mnot\u001b[39;00m ret:\n",
      "\u001b[1;31merror\u001b[0m: OpenCV(4.8.0) D:\\a\\opencv-python\\opencv-python\\opencv\\modules\\highgui\\src\\window_w32.cpp:2561: error: (-27:Null pointer) NULL window: 'Trackbar' in function 'cvGetTrackbarPos'\n"
     ]
    }
   ],
   "source": [
    "import cv2\n",
    "def empty(pos):\n",
    "    #print(pos)\n",
    "    pass\n",
    "\n",
    "img = cv2.imread('book.jpg' , cv2.IMREAD_GRAYSCALE)\n",
    "name = 'Trackbar'\n",
    "\n",
    "cv2.namedWindow(name)\n",
    "\n",
    "cv2.createTrackbar('threshold' , name , 127 , 255 , empty) #bar의 이름 , 창의 이름 , 초기값, 최대값, 이벤드 처리\n",
    "\n",
    "while True:\n",
    "    thresh = cv2.getTrackbarPos('threshold' , name )\n",
    "    ret, binary = cv2.threshold(img, thresh, 255 , cv2.THRESH_BINARY)\n",
    "    \n",
    "    if not ret:\n",
    "        break\n",
    "        \n",
    "    cv2.imshow(name, binary)\n",
    "    if cv2.waitKey(1) == ord('q'):\n",
    "        break\n",
    "        \n",
    "cv2.destroyAllWindows()"
   ]
  },
  {
   "cell_type": "markdown",
   "id": "59d1b106",
   "metadata": {},
   "source": [
    "## Adaptive threshold\n",
    "\n",
    "이미지를 작은 영역으로 나누어서 임계치 적용"
   ]
  },
  {
   "cell_type": "code",
   "execution_count": 1,
   "id": "500d986c",
   "metadata": {},
   "outputs": [
    {
     "ename": "error",
     "evalue": "OpenCV(4.8.0) D:\\a\\opencv-python\\opencv-python\\opencv\\modules\\highgui\\src\\window_w32.cpp:2561: error: (-27:Null pointer) NULL window: 'Trackbar' in function 'cvGetTrackbarPos'\n",
     "output_type": "error",
     "traceback": [
      "\u001b[1;31m---------------------------------------------------------------------------\u001b[0m",
      "\u001b[1;31merror\u001b[0m                                     Traceback (most recent call last)",
      "Cell \u001b[1;32mIn[1], line 18\u001b[0m\n\u001b[0;32m     15\u001b[0m cv2\u001b[38;5;241m.\u001b[39mcreateTrackbar(\u001b[38;5;124m'\u001b[39m\u001b[38;5;124mc\u001b[39m\u001b[38;5;124m'\u001b[39m , name , \u001b[38;5;241m3\u001b[39m , \u001b[38;5;241m10\u001b[39m , empty) \u001b[38;5;66;03m#일반적으로 양수의 값을 사용\u001b[39;00m\n\u001b[0;32m     17\u001b[0m \u001b[38;5;28;01mwhile\u001b[39;00m \u001b[38;5;28;01mTrue\u001b[39;00m:\n\u001b[1;32m---> 18\u001b[0m     block_size \u001b[38;5;241m=\u001b[39m cv2\u001b[38;5;241m.\u001b[39mgetTrackbarPos(\u001b[38;5;124m'\u001b[39m\u001b[38;5;124mblock_size\u001b[39m\u001b[38;5;124m'\u001b[39m , name ) \u001b[38;5;66;03m#bar의 이름, 창의 이름\u001b[39;00m\n\u001b[0;32m     19\u001b[0m     c \u001b[38;5;241m=\u001b[39m cv2\u001b[38;5;241m.\u001b[39mgetTrackbarPos(\u001b[38;5;124m'\u001b[39m\u001b[38;5;124mc\u001b[39m\u001b[38;5;124m'\u001b[39m , name ) \u001b[38;5;66;03m#bar의 이름, 창의 이름\u001b[39;00m\n\u001b[0;32m     21\u001b[0m     \u001b[38;5;28;01mif\u001b[39;00m block_size \u001b[38;5;241m<\u001b[39m\u001b[38;5;241m=\u001b[39m \u001b[38;5;241m1\u001b[39m:\n",
      "\u001b[1;31merror\u001b[0m: OpenCV(4.8.0) D:\\a\\opencv-python\\opencv-python\\opencv\\modules\\highgui\\src\\window_w32.cpp:2561: error: (-27:Null pointer) NULL window: 'Trackbar' in function 'cvGetTrackbarPos'\n"
     ]
    }
   ],
   "source": [
    "import cv2\n",
    "\n",
    "def empty(pos):\n",
    "    #print(pos)\n",
    "    pass\n",
    "\n",
    "img = cv2.imread('book.jpg' , cv2.IMREAD_GRAYSCALE)\n",
    "\n",
    "name = 'Trackbar'\n",
    "cv2.namedWindow(name)\n",
    "\n",
    "\n",
    " #bar의 이름 , 창의 이름 , 초기값, 최대값, 이벤드 처리\n",
    "cv2.createTrackbar('block_size' , name , 25 , 100 , empty) #홀수만 가능 1보다는 큰 값\n",
    "cv2.createTrackbar('c' , name , 3 , 10 , empty) #일반적으로 양수의 값을 사용\n",
    "\n",
    "while True:\n",
    "    block_size = cv2.getTrackbarPos('block_size' , name ) #bar의 이름, 창의 이름\n",
    "    c = cv2.getTrackbarPos('c' , name ) #bar의 이름, 창의 이름\n",
    "    \n",
    "    if block_size <= 1:\n",
    "        block_size = 3\n",
    "    if block_size % 2 == 0:\n",
    "        block_size += 1\n",
    "    \n",
    "    \n",
    "    binary = cv2.adaptiveThreshold(img, 255, cv2.ADAPTIVE_THRESH_MEAN_C, cv2.THRESH_BINARY, block_size, c)\n",
    "        \n",
    "    cv2.imshow(name, binary)\n",
    "    if cv2.waitKey(1) == ord('q'):\n",
    "        break\n",
    "        \n",
    "cv2.destroyAllWindows()"
   ]
  },
  {
   "cell_type": "markdown",
   "id": "9fb559e4",
   "metadata": {},
   "source": [
    "## 오츠 알고리즘\n",
    "\n",
    "bimodal image에 사용하기 적합 (최적의 임계치를 자동으로 발견)"
   ]
  },
  {
   "cell_type": "code",
   "execution_count": 5,
   "id": "9f86e726",
   "metadata": {},
   "outputs": [
    {
     "name": "stdout",
     "output_type": "stream",
     "text": [
      "otsu threshold 145.0\n"
     ]
    }
   ],
   "source": [
    "import cv2\n",
    "img = cv2.imread('book.jpg' , cv2.IMREAD_GRAYSCALE)\n",
    "\n",
    "ret , binary = cv2.threshold(img, 190, 255 , cv2.THRESH_BINARY)\n",
    "ret , otsu = cv2.threshold(img, -1, 255, cv2.THRESH_BINARY | cv2.THRESH_OTSU)\n",
    "print('otsu threshold' , ret)\n",
    "\n",
    "cv2.imshow('img' , img)\n",
    "cv2.imshow('binary' , binary)\n",
    "cv2.imshow('otsu' , otsu)\n",
    "cv2.waitKey(0)\n",
    "cv2.destroyAllWindows()"
   ]
  },
  {
   "cell_type": "code",
   "execution_count": null,
   "id": "2a2ec2c8",
   "metadata": {},
   "outputs": [],
   "source": []
  },
  {
   "cell_type": "code",
   "execution_count": null,
   "id": "f9a540ba",
   "metadata": {},
   "outputs": [],
   "source": []
  },
  {
   "cell_type": "code",
   "execution_count": null,
   "id": "5110288c",
   "metadata": {},
   "outputs": [],
   "source": []
  },
  {
   "cell_type": "code",
   "execution_count": null,
   "id": "b6ac8d95",
   "metadata": {},
   "outputs": [],
   "source": []
  },
  {
   "cell_type": "code",
   "execution_count": null,
   "id": "a8fc759e",
   "metadata": {},
   "outputs": [],
   "source": []
  }
 ],
 "metadata": {
  "kernelspec": {
   "display_name": "Python 3 (ipykernel)",
   "language": "python",
   "name": "python3"
  },
  "language_info": {
   "codemirror_mode": {
    "name": "ipython",
    "version": 3
   },
   "file_extension": ".py",
   "mimetype": "text/x-python",
   "name": "python",
   "nbconvert_exporter": "python",
   "pygments_lexer": "ipython3",
   "version": "3.11.3"
  }
 },
 "nbformat": 4,
 "nbformat_minor": 5
}
