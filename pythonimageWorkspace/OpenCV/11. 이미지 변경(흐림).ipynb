{
 "cells": [
  {
   "cell_type": "markdown",
   "id": "0860c5ec",
   "metadata": {},
   "source": [
    "# 11. 이미지 변경(흐림)"
   ]
  },
  {
   "cell_type": "markdown",
   "id": "b04c2c9d",
   "metadata": {},
   "source": [
    "## 가우시안 블러\n",
    "(흐리게 하면서 노이즈 제거)"
   ]
  },
  {
   "cell_type": "markdown",
   "id": "c87fc256",
   "metadata": {},
   "source": [
    "커널 사이즈 변화에 따른 흐림"
   ]
  },
  {
   "cell_type": "code",
   "execution_count": 10,
   "id": "d71ee240",
   "metadata": {},
   "outputs": [],
   "source": [
    "import cv2\n",
    "img = cv2.imread('img.jpg')\n",
    "\n",
    "kernel_3 = cv2.GaussianBlur(img , (3,3) , 0)\n",
    "kernel_5 = cv2.GaussianBlur(img , (5,5) , 0)\n",
    "kernel_7 = cv2.GaussianBlur(img , (7,7) , 0)\n",
    "\n",
    "cv2.imshow('img' , img)\n",
    "cv2.imshow('kernel_3' , kernel_3)\n",
    "cv2.imshow('kernel_5' , kernel_5)\n",
    "cv2.imshow('kernel_7' , kernel_7)\n",
    "cv2.waitKey(0)\n",
    "cv2.destroyAllWindows()"
   ]
  },
  {
   "cell_type": "markdown",
   "id": "444c0d24",
   "metadata": {},
   "source": [
    "표준 편차 변화에 따른 흐림"
   ]
  },
  {
   "cell_type": "code",
   "execution_count": 9,
   "id": "5515004a",
   "metadata": {},
   "outputs": [],
   "source": [
    "import cv2\n",
    "img = cv2.imread('img.jpg')\n",
    "\n",
    "sigma_1 = cv2.GaussianBlur(img , (0,0) , 1)\n",
    "sigma_2 = cv2.GaussianBlur(img , (0,0) , 2)\n",
    "sigma_3 = cv2.GaussianBlur(img , (0,0) , 3)\n",
    "\n",
    "cv2.imshow('img' , img)\n",
    "cv2.imshow('sigma_1' , sigma_1)\n",
    "cv2.imshow('sigma_2' , sigma_2)\n",
    "cv2.imshow('sigma_3' , sigma_3)\n",
    "cv2.waitKey(0)\n",
    "cv2.destroyAllWindows()"
   ]
  }
 ],
 "metadata": {
  "kernelspec": {
   "display_name": "Python 3 (ipykernel)",
   "language": "python",
   "name": "python3"
  },
  "language_info": {
   "codemirror_mode": {
    "name": "ipython",
    "version": 3
   },
   "file_extension": ".py",
   "mimetype": "text/x-python",
   "name": "python",
   "nbconvert_exporter": "python",
   "pygments_lexer": "ipython3",
   "version": "3.11.3"
  }
 },
 "nbformat": 4,
 "nbformat_minor": 5
}
