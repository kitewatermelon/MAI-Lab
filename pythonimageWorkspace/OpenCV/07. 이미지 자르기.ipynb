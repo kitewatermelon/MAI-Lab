{
 "cells": [
  {
   "cell_type": "markdown",
   "id": "7edcbc0a",
   "metadata": {},
   "source": [
    "# 7. 이미지 자르기"
   ]
  },
  {
   "cell_type": "markdown",
   "id": "b2570789",
   "metadata": {},
   "source": [
    "영역을 잘라서 새로운 윈도우에 표시"
   ]
  },
  {
   "cell_type": "code",
   "execution_count": 4,
   "id": "dd387451",
   "metadata": {},
   "outputs": [],
   "source": [
    "import cv2\n",
    "\n",
    "img = cv2.imread('img.jpg')\n",
    "\n",
    "crop = img[100:200 , 200:400] #세로:100~200 가로 200~400 까지 자르기\n",
    "\n",
    "cv2.imshow('img',img)\n",
    "cv2.imshow('crop',crop)\n",
    "cv2.waitKey(0)\n",
    "cv2.destroyAllWindows()"
   ]
  },
  {
   "cell_type": "markdown",
   "id": "425e5e23",
   "metadata": {},
   "source": [
    "영역을 잘라서 기존 윈도우에 표시 (나중에 마스크 씌울때 이거 사용하면 될듯 함)"
   ]
  },
  {
   "cell_type": "code",
   "execution_count": 15,
   "id": "8c095119",
   "metadata": {},
   "outputs": [],
   "source": [
    "import cv2\n",
    "\n",
    "img = cv2.imread('img.jpg')\n",
    "\n",
    "crop = img[50:200 , 220:350] #세로:100~200 가로 200~400 까지 자르기\n",
    "img[50:200 , 330:460] = crop  #세로:100~200 가로 200~400 까지 자르기\n",
    "img[50:200 , 460:590] = crop  #세로:100~200 가로 200~400 까지 자르기\n",
    "\n",
    "cv2.imshow('img',img)\n",
    "cv2.waitKey(0)\n",
    "cv2.destroyAllWindows()"
   ]
  }
 ],
 "metadata": {
  "kernelspec": {
   "display_name": "Python 3 (ipykernel)",
   "language": "python",
   "name": "python3"
  },
  "language_info": {
   "codemirror_mode": {
    "name": "ipython",
    "version": 3
   },
   "file_extension": ".py",
   "mimetype": "text/x-python",
   "name": "python",
   "nbconvert_exporter": "python",
   "pygments_lexer": "ipython3",
   "version": "3.11.3"
  }
 },
 "nbformat": 4,
 "nbformat_minor": 5
}
