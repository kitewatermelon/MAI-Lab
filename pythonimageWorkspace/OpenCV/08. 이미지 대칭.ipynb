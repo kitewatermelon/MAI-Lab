{
 "cells": [
  {
   "cell_type": "markdown",
   "id": "d3222b3f",
   "metadata": {},
   "source": [
    "# 8. 이미지 대칭"
   ]
  },
  {
   "cell_type": "markdown",
   "id": "ab80e427",
   "metadata": {},
   "source": [
    "## 좌우대칭"
   ]
  },
  {
   "cell_type": "code",
   "execution_count": 1,
   "id": "95c2f9dd",
   "metadata": {},
   "outputs": [],
   "source": [
    "import cv2\n",
    "img = cv2.imread('img.jpg')\n",
    "flip_horizontal = cv2.flip(img , 1) #flipcode > 0 = 좌우대칭 Horizontal\n",
    "\n",
    "cv2.imshow('img' , img)\n",
    "cv2.imshow('flip_horizontal' , flip_horizontal)\n",
    "cv2.waitKey(0)\n",
    "cv2.destroyAllWindows()"
   ]
  },
  {
   "cell_type": "markdown",
   "id": "e8d38dea",
   "metadata": {},
   "source": [
    "## 상하대칭"
   ]
  },
  {
   "cell_type": "code",
   "execution_count": 2,
   "id": "84a5e504",
   "metadata": {},
   "outputs": [],
   "source": [
    "import cv2\n",
    "img = cv2.imread('img.jpg')\n",
    "flip_vertical = cv2.flip(img , 0) #flipcode == 0 = 상하대칭 Vertical \n",
    "\n",
    "cv2.imshow('img' , img)\n",
    "cv2.imshow('flip_vertical' , flip_vertical)\n",
    "cv2.waitKey(0)\n",
    "cv2.destroyAllWindows()"
   ]
  },
  {
   "cell_type": "markdown",
   "id": "0bcddd79",
   "metadata": {},
   "source": [
    "## 상하좌우대칭"
   ]
  },
  {
   "cell_type": "code",
   "execution_count": 3,
   "id": "9498c0f0",
   "metadata": {},
   "outputs": [],
   "source": [
    "import cv2\n",
    "img = cv2.imread('img.jpg')\n",
    "flip_both = cv2.flip(img , -1) #flipcode < 0 = 상하좌우대칭 Both \n",
    "\n",
    "cv2.imshow('img' , img)\n",
    "cv2.imshow('flip_both' , flip_both)\n",
    "cv2.waitKey(0)\n",
    "cv2.destroyAllWindows()"
   ]
  }
 ],
 "metadata": {
  "kernelspec": {
   "display_name": "Python 3 (ipykernel)",
   "language": "python",
   "name": "python3"
  },
  "language_info": {
   "codemirror_mode": {
    "name": "ipython",
    "version": 3
   },
   "file_extension": ".py",
   "mimetype": "text/x-python",
   "name": "python",
   "nbconvert_exporter": "python",
   "pygments_lexer": "ipython3",
   "version": "3.11.3"
  }
 },
 "nbformat": 4,
 "nbformat_minor": 5
}
