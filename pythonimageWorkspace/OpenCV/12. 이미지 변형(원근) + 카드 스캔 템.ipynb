{
 "cells": [
  {
   "cell_type": "markdown",
   "id": "77b9fdf5",
   "metadata": {},
   "source": [
    "# 12. 이미지 변형(원근)"
   ]
  },
  {
   "cell_type": "markdown",
   "id": "ce76c599",
   "metadata": {},
   "source": [
    "## 사다리꼴 이미지 펼치기"
   ]
  },
  {
   "cell_type": "code",
   "execution_count": 13,
   "id": "65916210",
   "metadata": {},
   "outputs": [],
   "source": [
    "import cv2\n",
    "import numpy as np\n",
    "\n",
    "img = cv2.imread('newspaper.jpg')\n",
    "\n",
    "width,height = 640,240\n",
    "\n",
    "src = np.array([[261, 177],[503, 173],[560, 290],[234, 292]] , dtype=np.float32)\n",
    "dst = np.array([[0,0] , [width,0] , [width , height] , [0, height]] , dtype=np.float32)\n",
    "\n",
    "matrix = cv2.getPerspectiveTransform(src,dst) #Matrix 얻어옴\n",
    "result = cv2.warpPerspective(img, matrix, (width,height))\n",
    "\n",
    "cv2.imshow('img',img)\n",
    "cv2.imshow('result',result)\n",
    "cv2.waitKey(0)\n",
    "cv2.destroyAllWindows()"
   ]
  },
  {
   "cell_type": "markdown",
   "id": "13b59f44",
   "metadata": {},
   "source": [
    "## 회전된 이미지 올바로 세우기"
   ]
  },
  {
   "cell_type": "code",
   "execution_count": 14,
   "id": "4d4c7efc",
   "metadata": {},
   "outputs": [],
   "source": [
    "import cv2\n",
    "import numpy as np\n",
    "\n",
    "img = cv2.imread('poker.jpg')\n",
    "\n",
    "width,height = 530,710\n",
    "\n",
    "src = np.array([[702, 143],[1133, 414],[726, 1007],[276, 700]] , dtype=np.float32)\n",
    "dst = np.array([[0,0] , [width,0] , [width , height] , [0, height]] , dtype=np.float32)\n",
    "\n",
    "matrix = cv2.getPerspectiveTransform(src,dst) #Matrix 얻어옴\n",
    "result = cv2.warpPerspective(img, matrix, (width,height))\n",
    "\n",
    "cv2.imshow('img',img)\n",
    "cv2.imshow('result',result)\n",
    "cv2.waitKey(0)\n",
    "cv2.destroyAllWindows()"
   ]
  },
  {
   "cell_type": "markdown",
   "id": "765159f0",
   "metadata": {},
   "source": [
    "## 미니 프로젝트 : 반자동 문서 스캐너"
   ]
  },
  {
   "cell_type": "markdown",
   "id": "16abf701",
   "metadata": {},
   "source": [
    "### 마우스 이벤트 등록"
   ]
  },
  {
   "cell_type": "code",
   "execution_count": 25,
   "id": "dbab38b8",
   "metadata": {},
   "outputs": [
    {
     "name": "stdout",
     "output_type": "stream",
     "text": [
      "1025 164\n",
      "1025 164\n",
      "807 262\n"
     ]
    }
   ],
   "source": [
    "import cv2\n",
    "\n",
    "def mouse_handler(event,x,y,flags,param):\n",
    "    if event == cv2.EVENT_LBUTTONDBLCLK:\n",
    "        print(x,y)\n",
    "        \n",
    "        \n",
    "img = cv2.imread('poker.jpg')\n",
    "cv2.namedWindow('img') #img라는 윈도우를 미리 만들고 마우스 이벤트 처리를 위한 핸들러 적용\n",
    "\n",
    "cv2.setMouseCallback('img' , mouse_handler)\n",
    "\n",
    "\n",
    "cv2.imshow('img',img)\n",
    "cv2.waitKey(0)\n",
    "cv2.destroyAllWindows()"
   ]
  },
  {
   "cell_type": "markdown",
   "id": "0305529f",
   "metadata": {},
   "source": [
    "## 프로젝트"
   ]
  },
  {
   "cell_type": "code",
   "execution_count": 14,
   "id": "774f01e7",
   "metadata": {},
   "outputs": [],
   "source": [
    "import cv2\n",
    "import numpy as np\n",
    "\n",
    "point_list = []\n",
    "src_img = cv2.imread('poker.jpg')\n",
    "COLOR = (255 , 0 ,255) #pink (BGR)\n",
    "THICKNESS = 3\n",
    "drawing = False #선을 그릴지 여부\n",
    "\n",
    "def mouse_handler(event, x, y, flags, param):\n",
    "    global drawing\n",
    "    dst_img = src_img.copy()\n",
    "    \n",
    "    if event == cv2.EVENT_LBUTTONDOWN:\n",
    "        drawing = True #그리기 시작\n",
    "        point_list.append((x,y)) #튜플 형태로 넣어줌\n",
    "    \n",
    "    if drawing:\n",
    "        prev_point = None\n",
    "        for point in point_list:\n",
    "            cv2.circle(dst_img, point, 15, COLOR , cv2.FILLED)\n",
    "            if prev_point:\n",
    "                cv2.line(dst_img, prev_point ,point , COLOR, THICKNESS ,cv2.LINE_AA)\n",
    "            prev_point = point\n",
    "            \n",
    "        next_point = (x, y)\n",
    "        if len(point_list) == 4:\n",
    "            show_result()\n",
    "            next_point = point_list[0]\n",
    "        cv2.line(dst_img, prev_point ,next_point , COLOR, THICKNESS ,cv2.LINE_AA)\n",
    "    \n",
    "    cv2.imshow('img' , dst_img)\n",
    "    \n",
    "\n",
    "def show_result():\n",
    "    width,height = 530,710\n",
    "    src = np.float32(point_list)\n",
    "    dst = np.array([[0,0] , [width,0] , [width , height] , [0, height]] , dtype=np.float32)\n",
    "    \n",
    "    matrix = cv2.getPerspectiveTransform(src,dst) #Matrix 얻어옴\n",
    "    result = cv2.warpPerspective(src_img, matrix, (width,height))\n",
    "    cv2.imshow('result', result)\n",
    "\n",
    "cv2.namedWindow('img') #img라는 윈도우를 미리 만들고 마우스 이벤트 처리를 위한 핸들러 적용\n",
    "\n",
    "cv2.setMouseCallback('img' , mouse_handler)\n",
    "\n",
    "\n",
    "cv2.imshow('img',src_img)\n",
    "cv2.waitKey(0)\n",
    "cv2.destroyAllWindows()"
   ]
  }
 ],
 "metadata": {
  "kernelspec": {
   "display_name": "Python 3 (ipykernel)",
   "language": "python",
   "name": "python3"
  },
  "language_info": {
   "codemirror_mode": {
    "name": "ipython",
    "version": 3
   },
   "file_extension": ".py",
   "mimetype": "text/x-python",
   "name": "python",
   "nbconvert_exporter": "python",
   "pygments_lexer": "ipython3",
   "version": "3.11.3"
  }
 },
 "nbformat": 4,
 "nbformat_minor": 5
}
