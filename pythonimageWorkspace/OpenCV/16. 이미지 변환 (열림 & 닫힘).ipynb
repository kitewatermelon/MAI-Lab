{
 "cells": [
  {
   "cell_type": "markdown",
   "id": "fc84a0e8",
   "metadata": {},
   "source": [
    "# 16. 이미지 변환 (열림 & 닫힘)"
   ]
  },
  {
   "cell_type": "markdown",
   "id": "88e60ac0",
   "metadata": {},
   "source": [
    "## opening erose 후 dilate 노이즈 제거 후 살 찌우기\n",
    "\n",
    "> dilate(erode(image))"
   ]
  },
  {
   "cell_type": "code",
   "execution_count": 9,
   "id": "4894e5c0",
   "metadata": {},
   "outputs": [],
   "source": [
    "import cv2\n",
    "import numpy as np\n",
    "\n",
    "kernel = np.ones((3,3), dtype=np.uint8)\n",
    "#kernel\n",
    "\n",
    "img = cv2.imread('erode.png' , cv2.IMREAD_GRAYSCALE)\n",
    "erode = cv2.erode(img, kernel, iterations=3) # 반복횟수\n",
    "dilate = cv2.dilate(erode, kernel, iterations=3) # 반복횟수\n",
    "\n",
    "cv2.imshow('img' , img)\n",
    "cv2.imshow('erode' , erode)\n",
    "cv2.imshow('dilate' , dilate)\n",
    "cv2.waitKey(0)\n",
    "cv2.destroyAllWindows()"
   ]
  },
  {
   "cell_type": "markdown",
   "id": "13c4a591",
   "metadata": {},
   "source": [
    "## closing dilate 후 erode 노이즈 제거 후 살 찌우기\n",
    "\n",
    "> dilate(erode(image))"
   ]
  },
  {
   "cell_type": "code",
   "execution_count": 10,
   "id": "b5e3593f",
   "metadata": {},
   "outputs": [],
   "source": [
    "import cv2\n",
    "import numpy as np\n",
    "\n",
    "kernel = np.ones((3,3), dtype=np.uint8)\n",
    "#kernel\n",
    "\n",
    "img = cv2.imread('dilate.png' , cv2.IMREAD_GRAYSCALE)\n",
    "dilate = cv2.dilate(img, kernel, iterations=3) # 반복횟수\n",
    "erode = cv2.erode(dilate, kernel, iterations=3) # 반복횟수\n",
    "\n",
    "cv2.imshow('img' , img)\n",
    "cv2.imshow('erode' , erode)\n",
    "cv2.imshow('dilate' , dilate)\n",
    "cv2.waitKey(0)\n",
    "cv2.destroyAllWindows()"
   ]
  }
 ],
 "metadata": {
  "kernelspec": {
   "display_name": "Python 3 (ipykernel)",
   "language": "python",
   "name": "python3"
  },
  "language_info": {
   "codemirror_mode": {
    "name": "ipython",
    "version": 3
   },
   "file_extension": ".py",
   "mimetype": "text/x-python",
   "name": "python",
   "nbconvert_exporter": "python",
   "pygments_lexer": "ipython3",
   "version": "3.11.3"
  }
 },
 "nbformat": 4,
 "nbformat_minor": 5
}
