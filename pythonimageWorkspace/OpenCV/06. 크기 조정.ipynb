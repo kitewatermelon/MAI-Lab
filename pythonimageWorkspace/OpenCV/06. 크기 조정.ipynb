{
 "cells": [
  {
   "cell_type": "markdown",
   "id": "d2ed2397",
   "metadata": {},
   "source": [
    "# 06.크기 조정"
   ]
  },
  {
   "cell_type": "markdown",
   "id": "39f7b6fc",
   "metadata": {},
   "source": [
    "## 이미지\n",
    "고정 크기로 설정"
   ]
  },
  {
   "cell_type": "code",
   "execution_count": 3,
   "id": "98f0eaea",
   "metadata": {},
   "outputs": [],
   "source": [
    "import cv2\n",
    "img = cv2.imread('img.jpg')\n",
    "dst = cv2.resize(img, (400,500))\n",
    "cv2.imshow('img' , img)\n",
    "cv2.imshow('resize' , dst)\n",
    "cv2.waitKey(0)\n",
    "cv2.destroyAllWindows()"
   ]
  },
  {
   "cell_type": "markdown",
   "id": "0b38e655",
   "metadata": {},
   "source": [
    "비율로 설정"
   ]
  },
  {
   "cell_type": "code",
   "execution_count": 7,
   "id": "4782499c",
   "metadata": {},
   "outputs": [],
   "source": [
    "import cv2\n",
    "img = cv2.imread('img.jpg')\n",
    "dst = cv2.resize(img, None , fx=0.5 , fy=0.5) #x,y의 비율 정의\n",
    "\n",
    "cv2.imshow('img' , img)\n",
    "cv2.imshow('resize' , dst)\n",
    "cv2.waitKey(0)\n",
    "cv2.destroyAllWindows()"
   ]
  },
  {
   "cell_type": "markdown",
   "id": "c3118342",
   "metadata": {},
   "source": [
    "### interpolation \n",
    "1. cv2.INTER_AREA ; 크기 줄일 때 \n",
    "1. cv2.INTER_CUBIC ; 크기 키울 때 (속도 느리지만 퀄 good)\n",
    "1. cv2.INTER_LINEAR ; 크기 키울 때 (디폴트)"
   ]
  },
  {
   "cell_type": "markdown",
   "id": "c66fd56f",
   "metadata": {},
   "source": [
    "축소 using interpolation "
   ]
  },
  {
   "cell_type": "code",
   "execution_count": 9,
   "id": "8e21abbf",
   "metadata": {},
   "outputs": [],
   "source": [
    "import cv2\n",
    "img = cv2.imread('img.jpg')\n",
    "dst = cv2.resize(img, None , fx=0.5 , fy=0.5 , interpolation=cv2.INTER_AREA) #x,y의 비율 정의\n",
    "\n",
    "cv2.imshow('img' , img)\n",
    "cv2.imshow('resize' , dst)\n",
    "cv2.waitKey(0)\n",
    "cv2.destroyAllWindows()"
   ]
  },
  {
   "cell_type": "markdown",
   "id": "585f2c38",
   "metadata": {},
   "source": [
    "확대 using interpolation "
   ]
  },
  {
   "cell_type": "code",
   "execution_count": 11,
   "id": "4c2ffa99",
   "metadata": {},
   "outputs": [],
   "source": [
    "import cv2\n",
    "img = cv2.imread('img.jpg')\n",
    "dst = cv2.resize(img, None , fx=1.5 , fy=1.5 , interpolation=cv2.INTER_CUBIC) #x,y의 비율 정의\n",
    "\n",
    "cv2.imshow('img' , img)\n",
    "cv2.imshow('resize' , dst)\n",
    "cv2.waitKey(0)\n",
    "cv2.destroyAllWindows()"
   ]
  },
  {
   "cell_type": "markdown",
   "id": "bda07679",
   "metadata": {},
   "source": [
    "## 동영상 \n",
    "\n",
    "고정크기로 설정"
   ]
  },
  {
   "cell_type": "code",
   "execution_count": 21,
   "id": "545eee69",
   "metadata": {},
   "outputs": [],
   "source": [
    "import cv2\n",
    "cap = cv2.VideoCapture('video.mp4')\n",
    "\n",
    "while cap.isOpened():\n",
    "    ret,frame = cap.read()\n",
    "    if not ret:\n",
    "        break\n",
    "    \n",
    "    \n",
    "    frame_resized = cv2.resize(frame , None , fx = 0.25 , fy=0.25)\n",
    "    cv2.imshow('video',frame_resized)\n",
    "    if cv2.waitKey(1) == ord('q'):\n",
    "        break\n",
    "        \n",
    "cap.release()\n",
    "cv2.destroyAllWindows()"
   ]
  }
 ],
 "metadata": {
  "kernelspec": {
   "display_name": "Python 3 (ipykernel)",
   "language": "python",
   "name": "python3"
  },
  "language_info": {
   "codemirror_mode": {
    "name": "ipython",
    "version": 3
   },
   "file_extension": ".py",
   "mimetype": "text/x-python",
   "name": "python",
   "nbconvert_exporter": "python",
   "pygments_lexer": "ipython3",
   "version": "3.11.3"
  }
 },
 "nbformat": 4,
 "nbformat_minor": 5
}
